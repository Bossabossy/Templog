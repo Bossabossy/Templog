{
 "cells": [
  {
   "cell_type": "code",
   "execution_count": 6,
   "metadata": {
    "collapsed": true
   },
   "outputs": [],
   "source": [
    "from myapp.models import Record,Node,Attribute"
   ]
  },
  {
   "cell_type": "code",
   "execution_count": 8,
   "metadata": {},
   "outputs": [
    {
     "data": {
      "text/plain": [
       "<Node: 11:mushlab:Nothing>"
      ]
     },
     "execution_count": 8,
     "metadata": {},
     "output_type": "execute_result"
    }
   ],
   "source": [
    "#Node.objects.create(node_name=\"mushlab\", description=\"Nothing\")\n",
    "#Node.objects.filter(node_name=\"mushlab\").delete()"
   ]
  },
  {
   "cell_type": "code",
   "execution_count": 12,
   "metadata": {},
   "outputs": [
    {
     "name": "stdout",
     "output_type": "stream",
     "text": [
      "[<Node: 2:herblab:Herbiology Laboratory>, <Node: 11:mushlab:Nothing>]\n"
     ]
    }
   ],
   "source": [
    "print Node.objects.all()"
   ]
  },
  {
   "cell_type": "code",
   "execution_count": 9,
   "metadata": {},
   "outputs": [],
   "source": [
    "_mushlab=Node.objects.get(node_name=\"mushlab\")\n",
    "_temp=Attribute.objects.get(attribute=\"temp\")\n",
    "_humi=Attribute.objects.get(attribute=\"humi\")"
   ]
  },
  {
   "cell_type": "code",
   "execution_count": 10,
   "metadata": {},
   "outputs": [
    {
     "data": {
      "text/plain": [
       "<Record: 5>"
      ]
     },
     "execution_count": 10,
     "metadata": {},
     "output_type": "execute_result"
    }
   ],
   "source": [
    "Record.objects.create(node=_mushlab, attr=_temp, value=\"26.0\")\n",
    "Record.objects.create(node=_mushlab, attr=_humi, value=\"80.0\")"
   ]
  },
  {
   "cell_type": "code",
   "execution_count": 29,
   "metadata": {},
   "outputs": [
    {
     "name": "stdout",
     "output_type": "stream",
     "text": [
      "[{u'temp': 26.0, 'time': '2017-07-20 09:04:42.072000+00:00'}, {u'humi': 80.0, 'time': '2017-07-20 09:04:42.258000+00:00'}]\n"
     ]
    }
   ],
   "source": [
    "data=[]\n",
    "for i in Record.objects.all():\n",
    "    data.append({\"time\": str(i.created), i.attr.attribute:i.value})\n",
    "print data"
   ]
  },
  {
   "cell_type": "code",
   "execution_count": 30,
   "metadata": {
    "collapsed": true
   },
   "outputs": [],
   "source": [
    "import json"
   ]
  },
  {
   "cell_type": "code",
   "execution_count": 31,
   "metadata": {},
   "outputs": [
    {
     "data": {
      "text/plain": [
       "'[{\"temp\": 26.0, \"time\": \"2017-07-20 09:04:42.072000+00:00\"}, {\"humi\": 80.0, \"time\": \"2017-07-20 09:04:42.258000+00:00\"}]'"
      ]
     },
     "execution_count": 31,
     "metadata": {},
     "output_type": "execute_result"
    }
   ],
   "source": [
    "json.dumps(data)"
   ]
  },
  {
   "cell_type": "code",
   "execution_count": null,
   "metadata": {
    "collapsed": true
   },
   "outputs": [],
   "source": []
  }
 ],
 "metadata": {
  "kernelspec": {
   "display_name": "Django Shell-Plus",
   "language": "python",
   "name": "django_extensions"
  },
  "language_info": {
   "codemirror_mode": {
    "name": "ipython",
    "version": 2
   },
   "file_extension": ".py",
   "mimetype": "text/x-python",
   "name": "python",
   "nbconvert_exporter": "python",
   "pygments_lexer": "ipython2",
   "version": "2.7.13"
  }
 },
 "nbformat": 4,
 "nbformat_minor": 2
}
